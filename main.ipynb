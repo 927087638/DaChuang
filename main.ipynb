{
 "cells": [
  {
   "cell_type": "code",
   "execution_count": null,
   "metadata": {
    "collapsed": false
   },
   "outputs": [],
   "source": [
    "# !cp CPPred/bin/feamodule/CTD.py CTD.py\r\n",
    "# !cp CPPred/bin/feamodule/ProtParam.py ProtParam.py\r\n",
    "# !cp CPPred/bin/feamodule/ORF.py ORF.py\r\n",
    "# !cp CPPred/bin/feamodule/fickett.py fickett.py\r\n",
    "# !cp CPPred/bin/feamodule/FrameKmer.py FrameKmer.py\r\n",
    "# !cp CPPred/bin/feamodule/ORF_length.py ORF_length.py"
   ]
  },
  {
   "cell_type": "code",
   "execution_count": null,
   "metadata": {
    "collapsed": false
   },
   "outputs": [],
   "source": [
    "!pip install Bio\r\n",
    "!pip install biopython==1.75 --user"
   ]
  },
  {
   "cell_type": "code",
   "execution_count": 1,
   "metadata": {
    "collapsed": false
   },
   "outputs": [],
   "source": [
    "import os,sys\r\n",
    "\r\n",
    "hex_file=\"CPPred/Hexamer/Human_Hexamer.tsv\"\r\n",
    "seq_file=\"CPPred/data/Human_coding_RNA_test.fa\""
   ]
  },
  {
   "cell_type": "code",
   "execution_count": 2,
   "metadata": {
    "collapsed": false
   },
   "outputs": [
    {
     "data": {
      "text/plain": [
       "['hexamer\\tcoding\\tnoncoding\\n',\n",
       " 'GAACGT\\t0.000125472613061\\t6.29880112819e-05\\n',\n",
       " 'CTTCTT\\t0.000299994100152\\t0.000441227130881\\n',\n",
       " 'CACCCT\\t0.000259819200042\\t0.000355221278439\\n',\n",
       " 'GAACGG\\t0.000195066081257\\t6.15882776978e-05\\n']"
      ]
     },
     "execution_count": 2,
     "metadata": {},
     "output_type": "execute_result"
    }
   ],
   "source": [
    "lines = open(hex_file).readlines()\r\n",
    "lines[:5]"
   ]
  },
  {
   "cell_type": "code",
   "execution_count": 3,
   "metadata": {
    "collapsed": false
   },
   "outputs": [],
   "source": [
    "coding={}\r\n",
    "noncoding={}\r\n",
    "for line in lines:\r\n",
    "    fields = line.split()\r\n",
    "    if fields[0] == 'hexamer':continue           # 表头\r\n",
    "    coding[fields[0]] = float(fields[1])\r\n",
    "    noncoding[fields[0]] =  float(fields[2])"
   ]
  },
  {
   "cell_type": "code",
   "execution_count": 4,
   "metadata": {
    "collapsed": false
   },
   "outputs": [
    {
     "name": "stdout",
     "output_type": "stream",
     "text": [
      "ID: gi|1238415392|ref|NM_001354394.1|\n",
      "Name: gi|1238415392|ref|NM_001354394.1|\n",
      "Description: gi|1238415392|ref|NM_001354394.1| Homo sapiens diphosphoinositol pentakisphosphate kinase 1 (PPIP5K1), transcript variant 20, mRNA\n",
      "Number of features: 0\n",
      "Seq('ACCGCAAAGAAGTCGCGCTTTGATTGGGCCGCTGTCAGGTGTCGCTGCCTGCAG...GGA', SingleLetterAlphabet())\n"
     ]
    }
   ],
   "source": [
    "import Bio.SeqIO as Seq\r\n",
    "seqs = Seq.parse(seq_file,'fasta')\r\n",
    "\r\n",
    "for seq in seqs:\r\n",
    "    print(seq);\r\n",
    "    break;"
   ]
  },
  {
   "cell_type": "code",
   "execution_count": null,
   "metadata": {
    "collapsed": false
   },
   "outputs": [
    {
     "data": {
      "text/plain": [
       "<module 'ORF_length' from '/home/aistudio/ORF_length.py'>"
      ]
     },
     "execution_count": null,
     "metadata": {},
     "output_type": "execute_result"
    }
   ],
   "source": [
    "# import importlib\r\n",
    "# importlib.reload(len)"
   ]
  },
  {
   "cell_type": "code",
   "execution_count": 5,
   "metadata": {
    "collapsed": false
   },
   "outputs": [
    {
     "data": {
      "text/plain": [
       "_io.TextIOWrapper"
      ]
     },
     "execution_count": 5,
     "metadata": {},
     "output_type": "execute_result"
    }
   ],
   "source": [
    "tmp = open('test.f_svm','w')\r\n",
    "feature = open('test.feature','w')\r\n",
    "\r\n",
    "# species == \"Human\":\r\n",
    "feature.write(\"\\t\".join(map(str,[\"#ID\",\"ORF-integrity\",\"ORF-coverage\",\"Instability\",\"T2\",\"C0\",\"PI\",\"ORF-length\",\"AC\",\"T0\",\"G0\",\"C2\",\"A4\",\"G2\",\"TG\",\"A0\",\"TC\",\"G1\",\"C3\",\"T3\",\"A1\",\"GC\",\"T1\",\"G4\",\"C1\",\"G3\",\"A3\",\"Gravy\",\"Hexamer\",\"C4\",\"AG\",\"Fickett\",\"A2\",\"T4\",\"C\",\"G\",\"A\",\"T\"]))+\"\\n\")\r\n",
    "type(feature)"
   ]
  },
  {
   "cell_type": "code",
   "execution_count": 6,
   "metadata": {
    "collapsed": false
   },
   "outputs": [
    {
     "name": "stderr",
     "output_type": "stream",
     "text": [
      "/home/aistudio/.local/lib/python3.7/site-packages/Bio/Seq.py:182: BiopythonWarning: Biopython Seq objects now use string comparison. Older versions of Biopython used object comparison. During this transition, please use hash(id(my_seq)) or my_dict[id(my_seq)] if you want the old behaviour, or use hash(str(my_seq)) or my_dict[str(my_seq)] for the new string hashing behaviour.\n",
      "  \"the new string hashing behaviour.\", BiopythonWarning)\n"
     ]
    },
    {
     "name": "stdout",
     "output_type": "stream",
     "text": [
      "37:0.2517951172809957\r"
     ]
    }
   ],
   "source": [
    "import CTD\r\n",
    "import ProtParam as PP\r\n",
    "import fickett\r\n",
    "import FrameKmer\r\n",
    "import ORF_length as len\r\n",
    "\r\n",
    "out_label = 1\r\n",
    "\r\n",
    "for seq in seqs:\r\n",
    "    seqid = seq.id\r\n",
    "    A,T,G,C,AT,AG,AC,TG,TC,GC,A0,A1,A2,A3,A4,T0,T1,T2,T3,T4,G0,G1,G2,G3,G4,C0,C1,C2,C3,C4 = CTD.CTD(seq.seq)\r\n",
    "    insta_fe,PI_fe,gra_fe = PP.param(seq.seq)\r\n",
    "\r\n",
    "    fickett_fe = fickett.fickett_value(seq.seq)\r\n",
    "    hexamer = FrameKmer.kmer_ratio(seq.seq,6,3,coding,noncoding)\r\n",
    "    Len,Cov,inte_fe = len.len_cov(seq.seq)\r\n",
    "    \r\n",
    "    tem = [inte_fe,Cov,insta_fe,T2,C0,PI_fe,Len,AC,T0,G0,C2,A4,G2,TG,A0,TC,G1,C3,T3,A1,GC,T1,G4,C1,G3,A3,gra_fe,hexamer,C4,AG,fickett_fe,A2,T4,C,G,A,T]\r\n",
    "    feature.write(\"\\t\".join(map(str,[seqid,inte_fe,Cov,insta_fe,T2,C0,PI_fe,Len,AC,T0,G0,C2,A4,G2,TG,A0,TC,G1,C3,T3,A1,GC,T1,G4,C1,G3,A3,gra_fe,hexamer,C4,AG,fickett_fe,A2,T4,C,G,A,T]))+\"\\n\")\r\n",
    " \r\n",
    "    # print (tmp)\r\n",
    "    print (out_label)\r\n",
    "    for label,item in enumerate(tem):\r\n",
    "        print (tmp)\r\n",
    "        print(str(label+1)+':'+str(item))\r\n",
    "\r\n",
    "tmp.close()"
   ]
  },
  {
   "cell_type": "code",
   "execution_count": null,
   "metadata": {
    "collapsed": false
   },
   "outputs": [],
   "source": [
    "def predict(range_file,model_file):\r\n",
    "\tos.system('../libsvm-3.22/svm-scale -r '+ range_file + ' test.f_svm  > test.scaled ')\r\n",
    "\tos.system('../libsvm-3.22/svm-predict -b 1 test.scaled ' + model_file +' tmp.txt >  tmp2.txt')\r\n",
    "\r\n",
    "\tcoding_poten = open('coding_potential','w')\r\n",
    "\tcoding_poten.write(\"\\t\".join(map(str,[\"table\",\"coding_potential\"]))+\"\\n\")\r\n",
    "\r\n",
    "\tfor line in open('tmp.txt').readlines():\r\n",
    "\t\tif line[0]==\"l\":\r\n",
    "\t\t\tcontinue\r\n",
    "\t\tcoding_potential=line.split(\" \")[1]\r\n",
    "\t\tif line.split(\" \")[0] == \"1\":\r\n",
    "\t\t\tcoding_poten.write(\"\\t\".join(map(str,[\"coding\",coding_potential]))+\"\\n\")\r\n",
    "\t\telse:\r\n",
    "\t\t\tcoding_poten.write(\"\\t\".join(map(str,[\"noncoding\",coding_potential]))+\"\\n\")"
   ]
  },
  {
   "cell_type": "code",
   "execution_count": null,
   "metadata": {
    "collapsed": false
   },
   "outputs": [],
   "source": [
    "# 查看当前挂载的数据集目录, 该目录下的变更重启环境后会自动还原\n",
    "# View dataset directory. \n",
    "# This directory will be recovered automatically after resetting environment. \n",
    "!ls /home/aistudio/data"
   ]
  },
  {
   "cell_type": "code",
   "execution_count": null,
   "metadata": {
    "collapsed": false
   },
   "outputs": [],
   "source": [
    "# 查看工作区文件, 该目录下的变更将会持久保存. 请及时清理不必要的文件, 避免加载过慢.\n",
    "# View personal work directory. \n",
    "# All changes under this directory will be kept even after reset. \n",
    "# Please clean unnecessary files in time to speed up environment loading. \n",
    "!ls /home/aistudio/work"
   ]
  },
  {
   "cell_type": "code",
   "execution_count": null,
   "metadata": {
    "collapsed": false
   },
   "outputs": [],
   "source": [
    "# 如果需要进行持久化安装, 需要使用持久化路径, 如下方代码示例:\n",
    "# If a persistence installation is required, \n",
    "# you need to use the persistence path as the following: \n",
    "!mkdir /home/aistudio/external-libraries\n",
    "!pip install beautifulsoup4 -t /home/aistudio/external-libraries"
   ]
  },
  {
   "cell_type": "code",
   "execution_count": null,
   "metadata": {
    "collapsed": false
   },
   "outputs": [],
   "source": [
    "# 同时添加如下代码, 这样每次环境(kernel)启动的时候只要运行下方代码即可: \n",
    "# Also add the following code, \n",
    "# so that every time the environment (kernel) starts, \n",
    "# just run the following code: \n",
    "import sys \n",
    "sys.path.append('/home/aistudio/external-libraries')"
   ]
  },
  {
   "cell_type": "markdown",
   "metadata": {
    "collapsed": false
   },
   "source": [
    "请点击[此处](https://ai.baidu.com/docs#/AIStudio_Project_Notebook/a38e5576)查看本环境基本用法.  <br>\n",
    "Please click [here ](https://ai.baidu.com/docs#/AIStudio_Project_Notebook/a38e5576) for more detailed instructions. "
   ]
  }
 ],
 "metadata": {
  "kernelspec": {
   "display_name": "PaddlePaddle 2.0.0b0 (Python 3.5)",
   "language": "python",
   "name": "py35-paddle1.2.0"
  },
  "language_info": {
   "codemirror_mode": {
    "name": "ipython",
    "version": 3
   },
   "file_extension": ".py",
   "mimetype": "text/x-python",
   "name": "python",
   "nbconvert_exporter": "python",
   "pygments_lexer": "ipython3",
   "version": "3.7.4"
  }
 },
 "nbformat": 4,
 "nbformat_minor": 1
}
