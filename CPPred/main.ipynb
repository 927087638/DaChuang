{
 "cells": [
  {
   "cell_type": "code",
   "execution_count": 1,
   "metadata": {
    "collapsed": false
   },
   "outputs": [],
   "source": [
    "# !cp CPPred/bin/feamodule/CTD.py CTD.py\r\n",
    "# !cp CPPred/bin/feamodule/ProtParam.py ProtParam.py\r\n",
    "# !cp CPPred/bin/feamodule/ORF.py ORF.py\r\n",
    "# !cp CPPred/bin/feamodule/fickett.py fickett.py\r\n",
    "# !cp CPPred/bin/feamodule/FrameKmer.py FrameKmer.py\r\n",
    "# !cp CPPred/bin/feamodule/ORF_length.py ORF_length.py"
   ]
  },
  {
   "cell_type": "code",
   "execution_count": 2,
   "metadata": {
    "collapsed": false
   },
   "outputs": [
    {
     "name": "stdout",
     "output_type": "stream",
     "text": [
      "Looking in indexes: https://mirror.baidu.com/pypi/simple/\n",
      "Requirement already satisfied: Bio in /opt/conda/envs/python35-paddle120-env/lib/python3.7/site-packages (0.3.0)\n",
      "Requirement already satisfied: pytest in /opt/conda/envs/python35-paddle120-env/lib/python3.7/site-packages (from Bio) (6.2.2)\n",
      "Requirement already satisfied: requests in /opt/conda/envs/python35-paddle120-env/lib/python3.7/site-packages (from Bio) (2.22.0)\n",
      "Collecting biopython>=1.78 (from Bio)\n",
      "\u001b[?25l  Downloading https://mirror.baidu.com/pypi/packages/3a/cd/0098eaff841850c01da928c7f509b72fd3e1f51d77b772e24de9e2312471/biopython-1.78-cp37-cp37m-manylinux1_x86_64.whl (2.3MB)\n",
      "\u001b[K     |████████████████████████████████| 2.3MB 14.5MB/s eta 0:00:01\n",
      "\u001b[?25hRequirement already satisfied: importlib-metadata>=0.12; python_version < \"3.8\" in /opt/conda/envs/python35-paddle120-env/lib/python3.7/site-packages (from pytest->Bio) (0.23)\n",
      "Requirement already satisfied: py>=1.8.2 in /opt/conda/envs/python35-paddle120-env/lib/python3.7/site-packages (from pytest->Bio) (1.10.0)\n",
      "Requirement already satisfied: pluggy<1.0.0a1,>=0.12 in /opt/conda/envs/python35-paddle120-env/lib/python3.7/site-packages (from pytest->Bio) (0.13.1)\n",
      "Requirement already satisfied: toml in /opt/conda/envs/python35-paddle120-env/lib/python3.7/site-packages (from pytest->Bio) (0.10.0)\n",
      "Requirement already satisfied: iniconfig in /opt/conda/envs/python35-paddle120-env/lib/python3.7/site-packages (from pytest->Bio) (1.1.1)\n",
      "Requirement already satisfied: packaging in /opt/conda/envs/python35-paddle120-env/lib/python3.7/site-packages (from pytest->Bio) (20.9)\n",
      "Requirement already satisfied: attrs>=19.2.0 in /opt/conda/envs/python35-paddle120-env/lib/python3.7/site-packages (from pytest->Bio) (19.2.0)\n",
      "Requirement already satisfied: urllib3!=1.25.0,!=1.25.1,<1.26,>=1.21.1 in /opt/conda/envs/python35-paddle120-env/lib/python3.7/site-packages (from requests->Bio) (1.25.6)\n",
      "Requirement already satisfied: chardet<3.1.0,>=3.0.2 in /opt/conda/envs/python35-paddle120-env/lib/python3.7/site-packages (from requests->Bio) (3.0.4)\n",
      "Requirement already satisfied: certifi>=2017.4.17 in /opt/conda/envs/python35-paddle120-env/lib/python3.7/site-packages (from requests->Bio) (2019.9.11)\n",
      "Requirement already satisfied: idna<2.9,>=2.5 in /opt/conda/envs/python35-paddle120-env/lib/python3.7/site-packages (from requests->Bio) (2.8)\n",
      "Requirement already satisfied: numpy in /opt/conda/envs/python35-paddle120-env/lib/python3.7/site-packages (from biopython>=1.78->Bio) (1.16.4)\n",
      "Requirement already satisfied: zipp>=0.5 in /opt/conda/envs/python35-paddle120-env/lib/python3.7/site-packages (from importlib-metadata>=0.12; python_version < \"3.8\"->pytest->Bio) (0.6.0)\n",
      "Requirement already satisfied: pyparsing>=2.0.2 in /opt/conda/envs/python35-paddle120-env/lib/python3.7/site-packages (from packaging->pytest->Bio) (2.4.2)\n",
      "Requirement already satisfied: more-itertools in /opt/conda/envs/python35-paddle120-env/lib/python3.7/site-packages (from zipp>=0.5->importlib-metadata>=0.12; python_version < \"3.8\"->pytest->Bio) (7.2.0)\n",
      "Installing collected packages: biopython\n",
      "  Found existing installation: biopython 1.75\n",
      "    Uninstalling biopython-1.75:\n",
      "      Successfully uninstalled biopython-1.75\n",
      "Successfully installed biopython-1.78\n",
      "Looking in indexes: https://mirror.baidu.com/pypi/simple/\n",
      "Collecting biopython==1.75\n",
      "\u001b[?25l  Downloading https://mirror.baidu.com/pypi/packages/75/c3/86fe32386bd2ab9cda3bb3fc88674324b828fb2587f72183e3157bf1a594/biopython-1.75-cp37-cp37m-manylinux1_x86_64.whl (2.3MB)\n",
      "\u001b[K     |████████████████████████████████| 2.3MB 14.3MB/s eta 0:00:01\n",
      "\u001b[?25hRequirement already satisfied: numpy in /opt/conda/envs/python35-paddle120-env/lib/python3.7/site-packages (from biopython==1.75) (1.16.4)\n",
      "\u001b[31mERROR: bio 0.3.0 has requirement biopython>=1.78, but you'll have biopython 1.75 which is incompatible.\u001b[0m\n",
      "Installing collected packages: biopython\n",
      "Successfully installed biopython-1.75\n"
     ]
    }
   ],
   "source": [
    "!pip install Bio\r\n",
    "!pip install biopython==1.75 --user"
   ]
  },
  {
   "cell_type": "markdown",
   "metadata": {
    "collapsed": false
   },
   "source": [
    "python CPPred.py \n",
    "\n",
    "-i ../data/Human_coding_RNA_test.fa \n",
    "\n",
    "-hex ../Hexamer/Human_Hexamer.tsv \n",
    "\n",
    "-r ../Human_Model/Human.range \n",
    "\n",
    "-mol ../Human_Model/Human.model \n",
    "\n",
    "-spe Human \n",
    "\n",
    "-o Human_coding.result"
   ]
  },
  {
   "cell_type": "code",
   "execution_count": 16,
   "metadata": {
    "collapsed": false
   },
   "outputs": [],
   "source": [
    "import os,sys\r\n",
    "\r\n",
    "hex_file=\"CPPred/Hexamer/Human_Hexamer.tsv\"\r\n",
    "seq_file=\"CPPred/data/Human_coding_RNA_test.fa\""
   ]
  },
  {
   "cell_type": "code",
   "execution_count": 17,
   "metadata": {
    "collapsed": false
   },
   "outputs": [
    {
     "data": {
      "text/plain": [
       "['hexamer\\tcoding\\tnoncoding\\n',\n",
       " 'GAACGT\\t0.000125472613061\\t6.29880112819e-05\\n',\n",
       " 'CTTCTT\\t0.000299994100152\\t0.000441227130881\\n',\n",
       " 'CACCCT\\t0.000259819200042\\t0.000355221278439\\n',\n",
       " 'GAACGG\\t0.000195066081257\\t6.15882776978e-05\\n']"
      ]
     },
     "execution_count": 17,
     "metadata": {},
     "output_type": "execute_result"
    }
   ],
   "source": [
    "lines = open(hex_file).readlines()\r\n",
    "lines[:5]"
   ]
  },
  {
   "cell_type": "code",
   "execution_count": 18,
   "metadata": {
    "collapsed": false
   },
   "outputs": [],
   "source": [
    "coding={}\r\n",
    "noncoding={}\r\n",
    "for line in lines:\r\n",
    "    fields = line.split()\r\n",
    "    if fields[0] == 'hexamer':continue           # 表头\r\n",
    "    coding[fields[0]] = float(fields[1])\r\n",
    "    noncoding[fields[0]] =  float(fields[2])"
   ]
  },
  {
   "cell_type": "code",
   "execution_count": 19,
   "metadata": {
    "collapsed": false
   },
   "outputs": [
    {
     "name": "stdout",
     "output_type": "stream",
     "text": [
      "ID: gi|1238415392|ref|NM_001354394.1|\n",
      "Name: gi|1238415392|ref|NM_001354394.1|\n",
      "Description: gi|1238415392|ref|NM_001354394.1| Homo sapiens diphosphoinositol pentakisphosphate kinase 1 (PPIP5K1), transcript variant 20, mRNA\n",
      "Number of features: 0\n",
      "Seq('ACCGCAAAGAAGTCGCGCTTTGATTGGGCCGCTGTCAGGTGTCGCTGCCTGCAG...GGA', SingleLetterAlphabet())\n"
     ]
    }
   ],
   "source": [
    "import Bio.SeqIO as Seq\r\n",
    "seqs = Seq.parse(seq_file,'fasta')\r\n",
    "\r\n",
    "for seq in seqs:\r\n",
    "    print(seq);\r\n",
    "    break;"
   ]
  },
  {
   "cell_type": "code",
   "execution_count": 7,
   "metadata": {
    "collapsed": false
   },
   "outputs": [],
   "source": [
    "# import importlib\r\n",
    "# importlib.reload(len)"
   ]
  },
  {
   "cell_type": "code",
   "execution_count": 20,
   "metadata": {
    "collapsed": false
   },
   "outputs": [
    {
     "data": {
      "text/plain": [
       "_io.TextIOWrapper"
      ]
     },
     "execution_count": 20,
     "metadata": {},
     "output_type": "execute_result"
    }
   ],
   "source": [
    "tmp = open('test.f_svm','w')\r\n",
    "feature = open('test.feature','w')\r\n",
    "\r\n",
    "# species == \"Human\":\r\n",
    "feature.write(\"\\t\".join(map(str,[\"#ID\",\"ORF-integrity\",\"ORF-coverage\",\"Instability\",\"T2\",\"C0\",\"PI\",\"ORF-length\",\"AC\",\"T0\",\"G0\",\"C2\",\"A4\",\"G2\",\"TG\",\"A0\",\"TC\",\"G1\",\"C3\",\"T3\",\"A1\",\"GC\",\"T1\",\"G4\",\"C1\",\"G3\",\"A3\",\"Gravy\",\"Hexamer\",\"C4\",\"AG\",\"Fickett\",\"A2\",\"T4\",\"C\",\"G\",\"A\",\"T\"]))+\"\\n\")\r\n",
    "\r\n",
    "type(feature)"
   ]
  },
  {
   "cell_type": "code",
   "execution_count": 21,
   "metadata": {
    "collapsed": false
   },
   "outputs": [
    {
     "name": "stdout",
     "output_type": "stream",
     "text": [
      "37:0.2517951172809957\r"
     ]
    }
   ],
   "source": [
    "import CTD\r\n",
    "import ProtParam as PP\r\n",
    "import fickett\r\n",
    "import FrameKmer\r\n",
    "import ORF_length as len\r\n",
    "\r\n",
    "out_label = 1\r\n",
    "\r\n",
    "for seq in seqs:\r\n",
    "    seqid = seq.id\r\n",
    "    A,T,G,C,AT,AG,AC,TG,TC,GC,A0,A1,A2,A3,A4,T0,T1,T2,T3,T4,G0,G1,G2,G3,G4,C0,C1,C2,C3,C4 = CTD.CTD(seq.seq)\r\n",
    "    insta_fe,PI_fe,gra_fe = PP.param(seq.seq)\r\n",
    "\r\n",
    "    fickett_fe = fickett.fickett_value(seq.seq)\r\n",
    "    hexamer = FrameKmer.kmer_ratio(seq.seq,6,3,coding,noncoding)\r\n",
    "    Len,Cov,inte_fe = len.len_cov(seq.seq)\r\n",
    "    \r\n",
    "    tem = [inte_fe,Cov,insta_fe,T2,C0,PI_fe,Len,AC,T0,G0,C2,A4,G2,TG,A0,TC,G1,C3,T3,A1,GC,T1,G4,C1,G3,A3,gra_fe,hexamer,C4,AG,fickett_fe,A2,T4,C,G,A,T]\r\n",
    "    feature.write(\"\\t\".join(map(str,[seqid,inte_fe,Cov,insta_fe,T2,C0,PI_fe,Len,AC,T0,G0,C2,A4,G2,TG,A0,TC,G1,C3,T3,A1,GC,T1,G4,C1,G3,A3,gra_fe,hexamer,C4,AG,fickett_fe,A2,T4,C,G,A,T]))+\"\\n\")\r\n",
    " \r\n",
    "    # print (tmp)\r\n",
    "    print (out_label)\r\n",
    "    for label,item in enumerate(tem):\r\n",
    "        print (tmp)\r\n",
    "        print(str(label+1)+':'+str(item))\r\n",
    "\r\n",
    "tmp.close()"
   ]
  },
  {
   "cell_type": "markdown",
   "metadata": {
    "collapsed": false
   },
   "source": [
    "# predicting"
   ]
  },
  {
   "cell_type": "code",
   "execution_count": 22,
   "metadata": {
    "collapsed": false
   },
   "outputs": [
    {
     "data": {
      "text/plain": [
       "23"
      ]
     },
     "execution_count": 22,
     "metadata": {},
     "output_type": "execute_result"
    }
   ],
   "source": [
    "range_file ='CPPred/Human_Model/Human.range'\r\n",
    "model_file ='CPPred/Human_Model/Human.model'\r\n",
    "\r\n",
    "os.system('CPPred/libsvm-3.22/svm-scale -r '+ range_file + ' test.f_svm  > test.scaled ')\r\n",
    "os.system('CPPred/libsvm-3.22/svm-predict -b 1 test.scaled ' + model_file +' tmp.txt >  tmp2.txt')\r\n",
    "\r\n",
    "coding_poten = open('coding_potential','w')\r\n",
    "coding_poten.write(\"\\t\".join(map(str,[\"table\",\"coding_potential\"]))+\"\\n\")"
   ]
  },
  {
   "cell_type": "code",
   "execution_count": 23,
   "metadata": {
    "collapsed": false
   },
   "outputs": [
    {
     "name": "stdout",
     "output_type": "stream",
     "text": [
      "labels 1 -1\n",
      "\n"
     ]
    }
   ],
   "source": [
    "lines = open('tmp.txt').readlines()\r\n",
    "for line in lines:\r\n",
    "    print(line)"
   ]
  },
  {
   "cell_type": "code",
   "execution_count": 24,
   "metadata": {
    "collapsed": false
   },
   "outputs": [],
   "source": [
    "for line in lines:\r\n",
    "    if line[0]==\"l\":\r\n",
    "        continue\r\n",
    "    coding_potential=line.split(\" \")[1]\r\n",
    "    if line.split(\" \")[0] == \"1\":\r\n",
    "        coding_poten.write(\"\\t\".join(map(str,[\"coding\",coding_potential]))+\"\\n\")\r\n",
    "    else:\r\n",
    "        coding_poten.write(\"\\t\".join(map(str,[\"noncoding\",coding_potential]))+\"\\n\")"
   ]
  },
  {
   "cell_type": "code",
   "execution_count": 25,
   "metadata": {
    "collapsed": false
   },
   "outputs": [
    {
     "data": {
      "text/plain": [
       "0"
      ]
     },
     "execution_count": 25,
     "metadata": {},
     "output_type": "execute_result"
    }
   ],
   "source": [
    "output_file ='Human_coding.result'\r\n",
    "os.system(\"paste test.feature coding_potential >\"  + output_file)"
   ]
  },
  {
   "cell_type": "code",
   "execution_count": 14,
   "metadata": {
    "collapsed": false
   },
   "outputs": [
    {
     "data": {
      "text/plain": [
       "0"
      ]
     },
     "execution_count": 14,
     "metadata": {},
     "output_type": "execute_result"
    }
   ],
   "source": [
    "os.system(\"rm test.*\")\r\n",
    "os.system(\"rm coding_potential\")\r\n",
    "os.system(\"rm tmp*\")"
   ]
  },
  {
   "cell_type": "markdown",
   "metadata": {
    "collapsed": false
   },
   "source": [
    "# result"
   ]
  },
  {
   "cell_type": "code",
   "execution_count": 34,
   "metadata": {
    "collapsed": false
   },
   "outputs": [
    {
     "name": "stdout",
     "output_type": "stream",
     "text": [
      "#ID\tORF-integrity\tORF-coverage\tInstability\tT2\tC0\tPI\tORF-length\tAC\tT0\tG0\tC2\tA4\tG2\tTG\tA0\tTC\tG1\tC3\tT3\tA1\tGC\tT1\tG4\tC1\tG3\tA3\tGravy\tHexamer\tC4\tAG\tFickett\tA2\tT4\tC\tG\tA\tT\t\n",
      "\n",
      "\n",
      "gi|1238280249|ref|NM_001354928.1|\t1\t0.5685152947028103\t39.78766097240482\t0.5450248756218905\t0.0004975124378109452\t5.14666748046875\t2286\t0.10923115202786762\t0.00845771144278607\t0.0002487562189054726\t0.47960199004975124\t1.0\t0.4557213930348259\t0.1435680517541677\t0.003233830845771144\t0.11644687733266981\t0.19577114427860698\t0.7231343283582089\t0.8002487562189055\t0.2942786069651741\t0.1042547897486937\t0.3\t0.9945273631840796\t0.21019900497512436\t0.7149253731343284\t0.7803482587064676\t-0.32982917214191904\t-0.4564206520992873\t0.9930348258706467\t0.15501368499626772\t0.9186000000000001\t0.527363184079602\t0.996268656716418\t0.24353233830845772\t0.2878109452736318\t0.2407960199004975\t0.22786069651741295\t\n",
      "\n",
      "\n"
     ]
    }
   ],
   "source": [
    "lines = open(output_file).readlines()\r\n",
    "for line in lines[:2]:\r\n",
    "    print(line+'\\n')"
   ]
  }
 ],
 "metadata": {
  "kernelspec": {
   "display_name": "PaddlePaddle 2.0.0b0 (Python 3.5)",
   "language": "python",
   "name": "py35-paddle1.2.0"
  },
  "language_info": {
   "codemirror_mode": {
    "name": "ipython",
    "version": 3
   },
   "file_extension": ".py",
   "mimetype": "text/x-python",
   "name": "python",
   "nbconvert_exporter": "python",
   "pygments_lexer": "ipython3",
   "version": "3.7.4"
  }
 },
 "nbformat": 4,
 "nbformat_minor": 1
}
